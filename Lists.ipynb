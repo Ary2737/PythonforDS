{
 "cells": [
  {
   "cell_type": "markdown",
   "metadata": {},
   "source": [
    "## Lists\n",
    "\n",
    "   - Lists are ordered sequence of mixed data types\n",
    "   - Lists are written in comma separated elements within square brackets"
   ]
  },
  {
   "cell_type": "code",
   "execution_count": 1,
   "metadata": {},
   "outputs": [],
   "source": [
    "list1 = [\"India\", 5, \"Delhi\"]"
   ]
  },
  {
   "cell_type": "code",
   "execution_count": 1,
   "metadata": {},
   "outputs": [
    {
     "name": "stdout",
     "output_type": "stream",
     "text": [
      "['Aryan', 18, 'Ireland', 'Male']\n"
     ]
    }
   ],
   "source": [
    "my_info = [\"Aryan\" , 18, \"Ireland\" , \"Male\"] \n",
    "print(my_info) "
   ]
  },
  {
   "cell_type": "code",
   "execution_count": 3,
   "metadata": {},
   "outputs": [
    {
     "name": "stdout",
     "output_type": "stream",
     "text": [
      "3\n",
      "<class 'list'>\n"
     ]
    }
   ],
   "source": [
    "list1 = [\"India\", 5, \"Delhi\"]\n",
    "print(len(list1)) # len() gets no. of elements/chars in list/string\n",
    "print(type(list1)) #Checks if a variable is a list"
   ]
  },
  {
   "cell_type": "code",
   "execution_count": 7,
   "metadata": {},
   "outputs": [
    {
     "name": "stdout",
     "output_type": "stream",
     "text": [
      "Chennai\n",
      "Chennai\n"
     ]
    }
   ],
   "source": [
    "#Nested list - List within a List\n",
    "\n",
    "list2 = [\"India\", \"Delhi\", 5, 10, [\"Rajkot\", \"Chennai\"]]\n",
    "len(list2)\n",
    "print(list2[-1][1]) #Negative indexing - Same as in Strings\n",
    "print(list2[4][1]) #Accesing last element in 5th element of list2\n",
    "\n",
    "\n",
    "\n"
   ]
  },
  {
   "cell_type": "code",
   "execution_count": 8,
   "metadata": {},
   "outputs": [
    {
     "data": {
      "text/plain": [
       "['India', 'Delhi', 5, 10, ['Rajkot', 'Chennai']]"
      ]
     },
     "execution_count": 8,
     "metadata": {},
     "output_type": "execute_result"
    }
   ],
   "source": [
    "list2"
   ]
  },
  {
   "cell_type": "code",
   "execution_count": 10,
   "metadata": {},
   "outputs": [
    {
     "data": {
      "text/plain": [
       "'Chennai'"
      ]
     },
     "execution_count": 10,
     "metadata": {},
     "output_type": "execute_result"
    }
   ],
   "source": [
    "list2[-1][1]"
   ]
  },
  {
   "cell_type": "code",
   "execution_count": 11,
   "metadata": {},
   "outputs": [
    {
     "data": {
      "text/plain": [
       "'Chennai'"
      ]
     },
     "execution_count": 11,
     "metadata": {},
     "output_type": "execute_result"
    }
   ],
   "source": [
    "list2[4][1]"
   ]
  },
  {
   "cell_type": "code",
   "execution_count": 11,
   "metadata": {},
   "outputs": [
    {
     "name": "stdout",
     "output_type": "stream",
     "text": [
      "India\n",
      "Rajkot\n"
     ]
    }
   ],
   "source": [
    "#Indexing\n",
    "\n",
    "list2 = [\"India\", \"Delhi\", 5, 10, [\"Rajkot\", \"Chennai\"]]\n",
    "\n",
    "print(list2[0])\n",
    "print(list2[-1][-2]) # -1 = last element of list 2 \n",
    "# -2 = 2nd last element of last element of list2"
   ]
  },
  {
   "cell_type": "code",
   "execution_count": 13,
   "metadata": {},
   "outputs": [
    {
     "data": {
      "text/plain": [
       "['Rajkot', 'Chennai']"
      ]
     },
     "execution_count": 13,
     "metadata": {},
     "output_type": "execute_result"
    }
   ],
   "source": [
    "#Negative Slicing (A way to access data structures from the back)\n",
    "\n",
    "list2[-1]"
   ]
  },
  {
   "cell_type": "code",
   "execution_count": null,
   "metadata": {},
   "outputs": [],
   "source": [
    "list2 = [\"India\", \"Delhi\", 5, 10, (\"Rajkot\", \"Chennai\")]"
   ]
  },
  {
   "cell_type": "code",
   "execution_count": 101,
   "metadata": {},
   "outputs": [
    {
     "data": {
      "text/plain": [
       "'Rajkot'"
      ]
     },
     "execution_count": 101,
     "metadata": {},
     "output_type": "execute_result"
    }
   ],
   "source": [
    "list2[4][0]"
   ]
  },
  {
   "cell_type": "code",
   "execution_count": 14,
   "metadata": {},
   "outputs": [
    {
     "name": "stdout",
     "output_type": "stream",
     "text": [
      "Hello\n",
      "World\n",
      "HelloWorld\n",
      "Hello World\n"
     ]
    }
   ],
   "source": [
    "#String concateneation - Joinning 2 strings together via '+'\n",
    "\n",
    "str1 = \"Hello\"\n",
    "str2 = \"World\"\n",
    "\n",
    "print(str1)\n",
    "print(str2)\n",
    "print(str1 + str2) #Concatenation with no spaces\n",
    "print(str1 + \" \" + str2) #Concatenation with spaces"
   ]
  },
  {
   "cell_type": "code",
   "execution_count": 15,
   "metadata": {},
   "outputs": [
    {
     "name": "stdout",
     "output_type": "stream",
     "text": [
      "[1, 2, 3, 4, 5, 6, 7, 8]\n",
      "8\n"
     ]
    }
   ],
   "source": [
    "#List Concat - Making two lists into one\n",
    "list1 = [1,2,3,4]\n",
    "list2 = [5,6,7,8]\n",
    "\n",
    "new_list = list1 + list2\n",
    "\n",
    "print(new_list) # [1,2,3,4,5,6,7,8]\n",
    "print(len(new_list)) "
   ]
  },
  {
   "cell_type": "code",
   "execution_count": 16,
   "metadata": {},
   "outputs": [
    {
     "data": {
      "text/plain": [
       "8"
      ]
     },
     "execution_count": 16,
     "metadata": {},
     "output_type": "execute_result"
    }
   ],
   "source": [
    "len(new_list)"
   ]
  },
  {
   "cell_type": "code",
   "execution_count": 17,
   "metadata": {},
   "outputs": [
    {
     "data": {
      "text/plain": [
       "[1, 2, 3, 4, 5, 6, 7, 8]"
      ]
     },
     "execution_count": 17,
     "metadata": {},
     "output_type": "execute_result"
    }
   ],
   "source": [
    "new_list"
   ]
  },
  {
   "cell_type": "code",
   "execution_count": 16,
   "metadata": {},
   "outputs": [
    {
     "name": "stdout",
     "output_type": "stream",
     "text": [
      "[1, 2, 3, 4, 5, 6]\n"
     ]
    }
   ],
   "source": [
    "#Add two elements to an existing list\n",
    "list3 = [1,2,3,4]\n",
    "list4 = [5,6]\n",
    "new_list = list3 + list4\n",
    "print(new_list)"
   ]
  },
  {
   "cell_type": "code",
   "execution_count": 17,
   "metadata": {},
   "outputs": [
    {
     "name": "stdout",
     "output_type": "stream",
     "text": [
      "True\n",
      "False\n"
     ]
    }
   ],
   "source": [
    "#Membership in lists & tuples\n",
    "\n",
    "# in keyword for Arrays : Checks if an element is in a list. Prints boolean state\n",
    "\n",
    "list3 = [1,2,3,4]\n",
    "print(1 in list3) \n",
    "print(5 in list3)"
   ]
  },
  {
   "cell_type": "code",
   "execution_count": 2,
   "metadata": {},
   "outputs": [
    {
     "name": "stdout",
     "output_type": "stream",
     "text": [
      "True\n",
      "False\n"
     ]
    }
   ],
   "source": [
    "list3 = [1,2,3,4]\n",
    "print(1 in list3)\n",
    "print(5 in list3)"
   ]
  },
  {
   "cell_type": "markdown",
   "metadata": {},
   "source": [
    "#### Mutability"
   ]
  },
  {
   "cell_type": "code",
   "execution_count": 26,
   "metadata": {},
   "outputs": [
    {
     "name": "stdout",
     "output_type": "stream",
     "text": [
      "['Maths', 'Physics', 'Chemistry', 'Biology']\n",
      "Biology\n",
      "['Maths', 'Physics', 'Chemistry', 'Computer Science']\n",
      "Computer Science\n"
     ]
    }
   ],
   "source": [
    "list1 = [\"Maths\", \"Physics\", \"Chemistry\", \"Biology\"]\n",
    "\n",
    "print(list1)\n",
    "\n",
    "print(list1[3])\n",
    "\n",
    "list1[3] = 'Computer Science' # Mutability via changing a specififed element\n",
    "\n",
    "print(list1)\n",
    "\n",
    "print(list1[3])"
   ]
  },
  {
   "cell_type": "code",
   "execution_count": 27,
   "metadata": {},
   "outputs": [
    {
     "name": "stdout",
     "output_type": "stream",
     "text": [
      "[1, 2, 3, 4]\n"
     ]
    }
   ],
   "source": [
    "print(list1)"
   ]
  },
  {
   "cell_type": "code",
   "execution_count": 30,
   "metadata": {},
   "outputs": [
    {
     "name": "stdout",
     "output_type": "stream",
     "text": [
      "[1, 2, 3, 4, 5, 6]\n"
     ]
    },
    {
     "data": {
      "text/plain": [
       "6"
      ]
     },
     "execution_count": 30,
     "metadata": {},
     "output_type": "execute_result"
    }
   ],
   "source": [
    "#extend() function --> It extends the list\n",
    "# by adding elements from another list\n",
    "\n",
    "list1 = [1,2,3,4]\n",
    "list1.extend([5,6])\n",
    "\n",
    "print(list1) #[1,2,3,4,5,6] 5 and 6 are added to end of list\n",
    "len(list1)"
   ]
  },
  {
   "cell_type": "code",
   "execution_count": 31,
   "metadata": {},
   "outputs": [
    {
     "name": "stdout",
     "output_type": "stream",
     "text": [
      "[1, 2, 3, 4, [5, 6]]\n",
      "5\n",
      "[5, 6]\n"
     ]
    }
   ],
   "source": [
    "#append() function --> Adds a single element to the end of the list\n",
    "# This means that an element such as a list becomes the 5th element in its entirety\n",
    "\n",
    "list1 = [1,2,3,4]\n",
    "list1.append([5,6])\n",
    "print(list1) # [1,2,3,4[5,6]] Here [5,6] is a unique element\n",
    "print(len(list1))\n",
    "\n",
    "print(list1[len(list1)-1]) # [5,6] - Accessing the last element of list1"
   ]
  },
  {
   "cell_type": "code",
   "execution_count": 27,
   "metadata": {},
   "outputs": [],
   "source": [
    "#append() function\n",
    "\n",
    "list1 = [1,2,3,4]\n",
    "list1.append([5,6])"
   ]
  },
  {
   "cell_type": "code",
   "execution_count": 32,
   "metadata": {},
   "outputs": [
    {
     "name": "stdout",
     "output_type": "stream",
     "text": [
      "[1, 2, 3, 4]\n",
      "[1, 2, 4]\n"
     ]
    }
   ],
   "source": [
    "#del command --> deletes an element from a list\n",
    "\n",
    "list1 = [1,2,3,4]\n",
    "\n",
    "print(list1)\n",
    "\n",
    "del list1[2]\n",
    "print(list1)"
   ]
  },
  {
   "cell_type": "code",
   "execution_count": 36,
   "metadata": {},
   "outputs": [
    {
     "name": "stdout",
     "output_type": "stream",
     "text": [
      "[11, 22, 44]\n",
      "[11, 22]\n"
     ]
    }
   ],
   "source": [
    "#pop() - Deletes the object based on the index value\n",
    "\n",
    "list1 = [11,22,33,44]\n",
    "\n",
    "list1.pop(2)\n",
    "\n",
    "print(list1)\n",
    "\n",
    "list1.pop() # By default it behaves like pop() operation for stacks LIFO\n",
    "\n",
    "print(list1) "
   ]
  },
  {
   "cell_type": "code",
   "execution_count": 34,
   "metadata": {},
   "outputs": [
    {
     "data": {
      "text/plain": [
       "[11, 33, 44]"
      ]
     },
     "execution_count": 34,
     "metadata": {},
     "output_type": "execute_result"
    }
   ],
   "source": [
    "list1 = [11,22,33,44]\n",
    "\n",
    "list1.remove(22)\n",
    "list1"
   ]
  },
  {
   "cell_type": "code",
   "execution_count": null,
   "metadata": {},
   "outputs": [],
   "source": [
    "#pop() - By default, it deletes the last object from the list\n",
    "#pop takes index as an input\n",
    "\n",
    "list1 = [1,2,3,4]\n",
    "\n",
    "list1.pop(2)\n",
    "list1"
   ]
  },
  {
   "cell_type": "code",
   "execution_count": null,
   "metadata": {},
   "outputs": [],
   "source": [
    "#remove() - takes value as an input. Removes a value from a list\n",
    "\n",
    "list1 = [1,2,3,4]\n",
    "\n",
    "list1.remove(3)"
   ]
  },
  {
   "cell_type": "code",
   "execution_count": 7,
   "metadata": {},
   "outputs": [
    {
     "name": "stdout",
     "output_type": "stream",
     "text": [
      "Numerical sorted list: [2, 5, 9]\n"
     ]
    },
    {
     "data": {
      "text/plain": [
       "[9, 5, 2]"
      ]
     },
     "execution_count": 7,
     "metadata": {},
     "output_type": "execute_result"
    }
   ],
   "source": [
    "#Sorting - Sorts the list in numerical ascending order.\n",
    "A = [9,5,2]\n",
    "A.sort()\n",
    "print(\"Numerical sorted list:\" ,A)\n",
    "\n",
    "A.sort(reverse=True) # This is a way to reverse list\n",
    "A\n"
   ]
  },
  {
   "cell_type": "code",
   "execution_count": 43,
   "metadata": {},
   "outputs": [
    {
     "data": {
      "text/plain": [
       "[9, 5, 2]"
      ]
     },
     "execution_count": 43,
     "metadata": {},
     "output_type": "execute_result"
    }
   ],
   "source": [
    "A.sort(reverse=True) \n",
    "A"
   ]
  },
  {
   "cell_type": "markdown",
   "metadata": {},
   "source": [
    "#### Difference between sort & sorted"
   ]
  },
  {
   "cell_type": "code",
   "execution_count": 15,
   "metadata": {},
   "outputs": [
    {
     "name": "stdout",
     "output_type": "stream",
     "text": [
      "['Mango', 'Oranges', 'Strawberry']\n",
      "None\n"
     ]
    }
   ],
   "source": [
    "A = [\"Oranges\", \"Strawberry\", \"Mango\"]\n",
    "B = A.sort() # There is no assignment operator for sort() and printing sort() doesnt work either\n",
    "print(A)\n",
    "print(B) # B is None"
   ]
  },
  {
   "cell_type": "code",
   "execution_count": 17,
   "metadata": {},
   "outputs": [
    {
     "name": "stdout",
     "output_type": "stream",
     "text": [
      "['Mango', 'Oranges', 'Strawberry']\n"
     ]
    }
   ],
   "source": [
    "A = [\"Oranges\", \"Strawberry\", \"Mango\"] #Sort() also works with string lists and sorts it in alphabetical order\n",
    "A.sort()\n",
    "print(A)"
   ]
  },
  {
   "cell_type": "code",
   "execution_count": 50,
   "metadata": {},
   "outputs": [
    {
     "name": "stdout",
     "output_type": "stream",
     "text": [
      "['Oranges', 'Strawberry', 'Mango']\n",
      "['Mango', 'Oranges', 'Strawberry']\n"
     ]
    }
   ],
   "source": [
    "A = [\"Oranges\", \"Strawberry\", \"Mango\"]\n",
    "B = sorted(A) #sorted is the sort() function but it allowes assignment\n",
    "print(A)\n",
    "print(B)"
   ]
  },
  {
   "cell_type": "markdown",
   "metadata": {},
   "source": [
    "#### shallow copy"
   ]
  },
  {
   "cell_type": "code",
   "execution_count": 18,
   "metadata": {},
   "outputs": [
    {
     "name": "stdout",
     "output_type": "stream",
     "text": [
      "['Oranges', 'Strawberry', 'Mango']\n",
      "['Oranges', 'Strawberry', 'Mango']\n"
     ]
    }
   ],
   "source": [
    "A = [\"Oranges\", \"Strawberry\", \"Mango\"]\n",
    "B = A\n",
    "print(B)\n",
    "print(A)"
   ]
  },
  {
   "cell_type": "code",
   "execution_count": 54,
   "metadata": {},
   "outputs": [
    {
     "data": {
      "text/plain": [
       "'Mango'"
      ]
     },
     "execution_count": 54,
     "metadata": {},
     "output_type": "execute_result"
    }
   ],
   "source": [
    "A.pop()"
   ]
  },
  {
   "cell_type": "code",
   "execution_count": 19,
   "metadata": {},
   "outputs": [
    {
     "data": {
      "text/plain": [
       "['Oranges', 'Strawberry', 'Mango']"
      ]
     },
     "execution_count": 19,
     "metadata": {},
     "output_type": "execute_result"
    }
   ],
   "source": [
    "A"
   ]
  },
  {
   "cell_type": "code",
   "execution_count": 56,
   "metadata": {},
   "outputs": [
    {
     "data": {
      "text/plain": [
       "['Oranges', 'Strawberry']"
      ]
     },
     "execution_count": 56,
     "metadata": {},
     "output_type": "execute_result"
    }
   ],
   "source": [
    "B"
   ]
  },
  {
   "cell_type": "code",
   "execution_count": 25,
   "metadata": {},
   "outputs": [
    {
     "name": "stdout",
     "output_type": "stream",
     "text": [
      "['Oranges', 'Strawberry', 'Mango']\n"
     ]
    }
   ],
   "source": [
    "A = [\"Oranges\", \"Strawberry\", \"Mango\"]\n",
    "B = A[0:3] #Gets full portion of a list from index 0 to 2 (exclusive of last index)\n",
    "print(B)"
   ]
  },
  {
   "cell_type": "code",
   "execution_count": 58,
   "metadata": {},
   "outputs": [
    {
     "data": {
      "text/plain": [
       "'Mango'"
      ]
     },
     "execution_count": 58,
     "metadata": {},
     "output_type": "execute_result"
    }
   ],
   "source": [
    "A.pop()"
   ]
  },
  {
   "cell_type": "code",
   "execution_count": 27,
   "metadata": {},
   "outputs": [
    {
     "data": {
      "text/plain": [
       "['Oranges', 'Strawberry', 'Mango']"
      ]
     },
     "execution_count": 27,
     "metadata": {},
     "output_type": "execute_result"
    }
   ],
   "source": [
    "A"
   ]
  },
  {
   "cell_type": "code",
   "execution_count": 60,
   "metadata": {},
   "outputs": [
    {
     "data": {
      "text/plain": [
       "['Oranges', 'Strawberry', 'Mango']"
      ]
     },
     "execution_count": 60,
     "metadata": {},
     "output_type": "execute_result"
    }
   ],
   "source": [
    "B"
   ]
  },
  {
   "cell_type": "markdown",
   "metadata": {},
   "source": [
    "## Questions"
   ]
  },
  {
   "cell_type": "markdown",
   "metadata": {},
   "source": [
    "#### Description\n",
    "Add the element ‘Python’ to a tuple input_tuple = ('Monty Python', 'British', 1969). Since tuples are immutable, one way to do this is to convert the tuple to a list, add the element, and convert it back to a tuple.\n",
    "\n",
    "\n",
    "Sample Input:\n",
    "('Monty Python', 'British', 1969)\n",
    "\n",
    "Sample Output:\n",
    "('Monty Python', 'British', 1969, 'Python')"
   ]
  },
  {
   "cell_type": "code",
   "execution_count": null,
   "metadata": {},
   "outputs": [],
   "source": []
  },
  {
   "cell_type": "code",
   "execution_count": null,
   "metadata": {},
   "outputs": [],
   "source": []
  },
  {
   "cell_type": "code",
   "execution_count": null,
   "metadata": {},
   "outputs": [],
   "source": []
  },
  {
   "cell_type": "code",
   "execution_count": null,
   "metadata": {},
   "outputs": [],
   "source": []
  },
  {
   "cell_type": "code",
   "execution_count": null,
   "metadata": {},
   "outputs": [],
   "source": []
  },
  {
   "cell_type": "code",
   "execution_count": 62,
   "metadata": {},
   "outputs": [],
   "source": [
    "tuple_new = ('Monty Python', 'British', 1969)\n",
    "a = 'Python'\n",
    "#Tuple Concatenation\n",
    "tuple_new2 = tuple_new + (a,)"
   ]
  },
  {
   "cell_type": "code",
   "execution_count": 63,
   "metadata": {},
   "outputs": [
    {
     "data": {
      "text/plain": [
       "('Monty Python', 'British', 1969, 'Python')"
      ]
     },
     "execution_count": 63,
     "metadata": {},
     "output_type": "execute_result"
    }
   ],
   "source": [
    "tuple_new2"
   ]
  },
  {
   "cell_type": "code",
   "execution_count": 142,
   "metadata": {},
   "outputs": [
    {
     "data": {
      "text/plain": [
       "tuple"
      ]
     },
     "execution_count": 142,
     "metadata": {},
     "output_type": "execute_result"
    }
   ],
   "source": [
    "type(tuple_new2)"
   ]
  },
  {
   "cell_type": "code",
   "execution_count": 64,
   "metadata": {},
   "outputs": [],
   "source": [
    "tuple_new = ('Monty Python', 'British', 1969)\n",
    "list_new = list(tuple_new)\n",
    "list_new.append('Python')\n",
    "tuple_new2 = tuple(list_new)"
   ]
  },
  {
   "cell_type": "code",
   "execution_count": 65,
   "metadata": {},
   "outputs": [
    {
     "data": {
      "text/plain": [
       "('Monty Python', 'British', 1969, 'Python')"
      ]
     },
     "execution_count": 65,
     "metadata": {},
     "output_type": "execute_result"
    }
   ],
   "source": [
    "tuple_new2"
   ]
  },
  {
   "cell_type": "code",
   "execution_count": 146,
   "metadata": {},
   "outputs": [
    {
     "data": {
      "text/plain": [
       "tuple"
      ]
     },
     "execution_count": 146,
     "metadata": {},
     "output_type": "execute_result"
    }
   ],
   "source": [
    "type(tuple_new2)"
   ]
  },
  {
   "cell_type": "markdown",
   "metadata": {},
   "source": [
    "#### Description\n",
    "Split the string input_str = 'Kumar_Ravi_003' to the person's second name, first name and unique customer code. In this example, second_name= 'Kumar', first_name= 'Ravi', customer_code = '003'.\n",
    "\n",
    "A sample output of the input 'Kumar_Ravi_003' is:"
   ]
  },
  {
   "cell_type": "code",
   "execution_count": 31,
   "metadata": {},
   "outputs": [
    {
     "ename": "SyntaxError",
     "evalue": "leading zeros in decimal integer literals are not permitted; use an 0o prefix for octal integers (3255478335.py, line 3)",
     "output_type": "error",
     "traceback": [
      "  \u001b[36mCell\u001b[39m\u001b[36m \u001b[39m\u001b[32mIn[31]\u001b[39m\u001b[32m, line 3\u001b[39m\n\u001b[31m    \u001b[39m\u001b[31m003\u001b[39m\n    ^\n\u001b[31mSyntaxError\u001b[39m\u001b[31m:\u001b[39m leading zeros in decimal integer literals are not permitted; use an 0o prefix for octal integers\n"
     ]
    }
   ],
   "source": [
    "Ravi\n",
    "Kumar\n",
    "003"
   ]
  },
  {
   "cell_type": "code",
   "execution_count": 29,
   "metadata": {},
   "outputs": [
    {
     "name": "stdout",
     "output_type": "stream",
     "text": [
      "Kumar\n",
      "Ravi\n",
      "003\n"
     ]
    }
   ],
   "source": [
    "#My attempt\n",
    "\n",
    "input_str = 'Kumar_Ravi_003'\n",
    "\n",
    "first_name = input_str[0:5]\n",
    "second_name  =input_str[6:10]\n",
    "code = input_str[11:]\n",
    "\n",
    "print(first_name)\n",
    "print(second_name)\n",
    "print(code)\n"
   ]
  },
  {
   "cell_type": "code",
   "execution_count": 32,
   "metadata": {},
   "outputs": [
    {
     "name": "stdout",
     "output_type": "stream",
     "text": [
      "Ravi\n",
      "Kumar\n",
      "003\n",
      "Kumar\n",
      "Ravi\n",
      "003\n"
     ]
    }
   ],
   "source": [
    "#Solution \n",
    "\n",
    "input_str = 'Kumar_Ravi_003'\n",
    "\n",
    "print(input_str[6:10]) #Kumar\n",
    "print(input_str[0:5])  #Ravi\n",
    "print(input_str[-3:])  #003\n",
    "\n",
    "\n",
    "# Solution with string split() method\n",
    "\n",
    "input_str = 'Kumar_Ravi_003'\n",
    "stringList = input_str.split('_')\n",
    "\n",
    "first_name = stringList[0]\n",
    "second_name = stringList[1]\n",
    "code = stringList[2]\n",
    "\n",
    "print(first_name)\n",
    "print(second_name)\n",
    "print(code)\n",
    "\n",
    "\n",
    "\n"
   ]
  },
  {
   "cell_type": "code",
   "execution_count": null,
   "metadata": {},
   "outputs": [],
   "source": []
  },
  {
   "cell_type": "markdown",
   "metadata": {},
   "source": [
    "#### Question"
   ]
  },
  {
   "cell_type": "code",
   "execution_count": null,
   "metadata": {},
   "outputs": [],
   "source": []
  },
  {
   "cell_type": "markdown",
   "metadata": {},
   "source": [
    "#### Description\n",
    "Remove SPSS from input_list=['SAS', 'R', 'PYTHON', 'SPSS'] and add 'SPARK' in its place.\n",
    "\n",
    "\n",
    "\n",
    "Sample Input:\n",
    "\n",
    "['SAS', 'R', 'PYTHON', 'SPSS']\n",
    "\n",
    "\n",
    "\n",
    "Sample Output:\n",
    "\n",
    "['SAS', 'R', 'PYTHON', 'SPARK']"
   ]
  },
  {
   "cell_type": "code",
   "execution_count": 37,
   "metadata": {},
   "outputs": [
    {
     "name": "stdout",
     "output_type": "stream",
     "text": [
      "['SAS', 'R', 'PYTHON', 'SPARKY']\n"
     ]
    }
   ],
   "source": [
    "input_list = ['SAS', 'R', 'PYTHON', 'SPSS']\n",
    "input_list.pop()\n",
    "input_list.append(\"SPARKY\")\n",
    "\n",
    "print(input_list)"
   ]
  },
  {
   "cell_type": "markdown",
   "metadata": {},
   "source": [
    "#### Description\n",
    "Convert a list ['Pythons syntax is easy to learn', 'Pythons syntax is very clear'] to a string using ‘&’. The sample output of this string will be:\n",
    "Pythons syntax is easy to learn & Pythons syntax is very clear\n",
    "\n",
    "Note that there is a space on both sides of '&' (as usual in English sentences)."
   ]
  },
  {
   "cell_type": "code",
   "execution_count": 43,
   "metadata": {},
   "outputs": [
    {
     "name": "stdout",
     "output_type": "stream",
     "text": [
      "Pythons syntax is easy to learn & Pythons syntax is very clear\n"
     ]
    }
   ],
   "source": [
    "input_list = ['Pythons syntax is easy to learn', 'Pythons syntax is very clear']\n",
    "new_string = input_list[0] + ' & ' + input_list[1]\n",
    "print(new_string)"
   ]
  },
  {
   "cell_type": "markdown",
   "metadata": {},
   "source": [
    "#### How will I extract Python from the nested list\n",
    "input_list =  [['SAS','R'],['Tableau','SQL'],['Python','Java']]"
   ]
  },
  {
   "cell_type": "code",
   "execution_count": 41,
   "metadata": {},
   "outputs": [
    {
     "name": "stdout",
     "output_type": "stream",
     "text": [
      "Python\n"
     ]
    }
   ],
   "source": [
    "input_list =  [['SAS','R'],['Tableau','SQL'],['Python','Java']]\n",
    "print(input_list[-1][0])"
   ]
  },
  {
   "cell_type": "code",
   "execution_count": null,
   "metadata": {},
   "outputs": [],
   "source": []
  }
 ],
 "metadata": {
  "kernelspec": {
   "display_name": "Python 3",
   "language": "python",
   "name": "python3"
  },
  "language_info": {
   "codemirror_mode": {
    "name": "ipython",
    "version": 3
   },
   "file_extension": ".py",
   "mimetype": "text/x-python",
   "name": "python",
   "nbconvert_exporter": "python",
   "pygments_lexer": "ipython3",
   "version": "3.13.1"
  }
 },
 "nbformat": 4,
 "nbformat_minor": 2
}
